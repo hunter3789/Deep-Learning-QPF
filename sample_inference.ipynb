{
  "nbformat": 4,
  "nbformat_minor": 0,
  "metadata": {
    "colab": {
      "provenance": []
    },
    "kernelspec": {
      "name": "python3",
      "display_name": "Python 3"
    },
    "language_info": {
      "name": "python"
    }
  },
  "cells": [
    {
      "cell_type": "markdown",
      "source": [
        "**Clone Git Repo**  "
      ],
      "metadata": {
        "id": "j5ihWMnVAzNF"
      }
    },
    {
      "cell_type": "code",
      "source": [
        "!git clone https://github.com/hunter3789/Deep_Learning_QPF.git"
      ],
      "metadata": {
        "id": "nEPQWvvf-BDg",
        "outputId": "56cadc19-8bf2-4a78-b96a-d1d16ff6c7a5",
        "colab": {
          "base_uri": "https://localhost:8080/"
        }
      },
      "execution_count": 1,
      "outputs": [
        {
          "output_type": "stream",
          "name": "stdout",
          "text": [
            "Cloning into 'Deep_Learning_QPF'...\n",
            "remote: Enumerating objects: 112, done.\u001b[K\n",
            "remote: Counting objects: 100% (1/1), done.\u001b[K\n",
            "remote: Total 112 (delta 0), reused 0 (delta 0), pack-reused 111 (from 1)\u001b[K\n",
            "Receiving objects: 100% (112/112), 181.57 MiB | 11.00 MiB/s, done.\n",
            "Resolving deltas: 100% (26/26), done.\n",
            "Updating files: 100% (31/31), done.\n"
          ]
        }
      ]
    },
    {
      "cell_type": "code",
      "source": [
        "%cd Deep_Learning_QPF"
      ],
      "metadata": {
        "id": "HBKd0uoIF1b-",
        "outputId": "6cd7a499-f425-472a-b957-4021c395f172",
        "colab": {
          "base_uri": "https://localhost:8080/"
        }
      },
      "execution_count": 8,
      "outputs": [
        {
          "output_type": "stream",
          "name": "stdout",
          "text": [
            "/content/Deep_Learning_QPF\n"
          ]
        }
      ]
    },
    {
      "cell_type": "code",
      "source": [
        "from datetime import datetime, timedelta\n",
        "from pathlib import Path\n",
        "\n",
        "import numpy as np\n",
        "import torch\n",
        "import matplotlib.pyplot as plt\n",
        "\n",
        "import sys\n",
        "sys.path.append('/content/Deep_Learning_QPF')\n",
        "from work.models_gan import load_model\n",
        "from work.load_dataset_gan import load_data\n",
        "\n",
        "if torch.cuda.is_available():\n",
        "    device = torch.device(\"cuda\")\n",
        "else:\n",
        "    print(\"CUDA not available, using CPU\")\n",
        "    device = torch.device(\"cpu\")\n",
        "\n",
        "# load model\n",
        "model_gen = load_model('regressor', with_weights=True)\n",
        "\n",
        "# load files\n",
        "mean_std_file = './work/trainset_ssrd_agg_mean_std.npz'\n",
        "mean, std = np.load(mean_std_file)['mean'], np.load(mean_std_file)['std']\n",
        "\n",
        "label_mean_std_file = './work/trainset_label_agg_mean_std.npz'\n",
        "label_mean, label_std = np.load(label_mean_std_file)['mean'], np.load(label_mean_std_file)['std']\n",
        "\n",
        "topo_file = './work/topo_norm.npz'\n",
        "topo = np.load(topo_file)['topo']\n",
        "\n",
        "# load sample data\n",
        "inference_data = load_data(mean=mean, std=std, topo=topo, label_mean=label_mean, label_std=label_std, dataset_path=\"./sample\", shuffle=True, batch_size=1, num_workers=0, transform_pipeline=\"default\")"
      ],
      "metadata": {
        "id": "yN-7MUo2Ayy5",
        "outputId": "1f85cc9d-60e1-41ed-dea3-f3ee1e913fb7",
        "colab": {
          "base_uri": "https://localhost:8080/"
        }
      },
      "execution_count": 14,
      "outputs": [
        {
          "output_type": "stream",
          "name": "stdout",
          "text": [
            "CUDA not available, using CPU\n"
          ]
        }
      ]
    },
    {
      "cell_type": "code",
      "source": [
        "# inference\n",
        "model_gen.eval()\n",
        "\n",
        "with torch.inference_mode():\n",
        "    for data in inference_data:\n",
        "        img, label, mask = data['image'], data['label'], data['mask']\n",
        "        img, label, mask = img.to(device), label.to(device), mask.to(device)\n",
        "        label = label.type(torch.float32)\n",
        "\n",
        "        pred = model_gen(img).squeeze()\n",
        "        break\n",
        "\n",
        "print(pred.shape)"
      ],
      "metadata": {
        "id": "ogHHJPFHGX6G",
        "outputId": "2a2dabf4-0b99-4a7b-8df5-ca642b708bd1",
        "colab": {
          "base_uri": "https://localhost:8080/"
        }
      },
      "execution_count": 15,
      "outputs": [
        {
          "output_type": "stream",
          "name": "stdout",
          "text": [
            "torch.Size([720, 576])\n"
          ]
        }
      ]
    },
    {
      "cell_type": "code",
      "source": [
        "# map borderline\n",
        "def get_linecollection():\n",
        "    mapH5_NX, mapH5_NY, mapH5_SX, mapH5_SY = 5760/2, 5760/2, 3328/2, 3328/2\n",
        "    map_NX, map_NY, map_SX, map_SY = 576, 720, 560/2, 840/2\n",
        "    ox = mapH5_SX - map_SX\n",
        "    oy = mapH5_SY - map_SY\n",
        "\n",
        "    coords = []\n",
        "\n",
        "    map_file = './DFS_mapH5s.bln'\n",
        "    with open(map_file, mode='rb') as file:\n",
        "        while True:\n",
        "            data = file.read(4*2)\n",
        "\n",
        "            if not data:\n",
        "                break\n",
        "            else:\n",
        "                num_iter = struct.unpack('I'*2, data)[0]\n",
        "\n",
        "            #print(num_iter)\n",
        "\n",
        "            for i in range(num_iter):\n",
        "                x2, y2 = struct.unpack('f'*2, file.read(4*2))\n",
        "                x2 /= 2;\n",
        "                y2 /= 2;\n",
        "                x2 -= ox\n",
        "                y2 -= oy\n",
        "\n",
        "                if i > 0:\n",
        "                    x3 = x1\n",
        "                    y3 = y1\n",
        "\n",
        "                    if x1 == x2 or y1 == y2:\n",
        "                        continue\n",
        "\n",
        "                    if x1 < 0:\n",
        "                        x3 = 0\n",
        "                        y3 = (y2-y1)/(x2-x1)*(-x1) + y1\n",
        "\n",
        "                        if y3 < 0:\n",
        "                            x3 = (x2-x1)/(y2-y1)*(-y1) + x1\n",
        "                            y3 = 0\n",
        "                        elif y3 > map_NY:\n",
        "                            x3 = (x2-x1)/(y2-y1)*(map_NY-y1) + x1\n",
        "                            y3 = map_NY\n",
        "                    elif x1 > map_NX:\n",
        "                        x3 = map_NX\n",
        "                        y3 = (y2-y1)/(x2-x1)*(map_NX-x1) + y1\n",
        "\n",
        "                        if y3 < 0:\n",
        "                            x3 = (x2-x1)/(y2-y1)*(-y1) + x1\n",
        "                            y3 = 0\n",
        "                        elif y3 > map_NY:\n",
        "                            x3 = (x2-x1)/(y2-y1)*(map_NY-y1) + x1\n",
        "                            y3 = map_NY\n",
        "                    else:\n",
        "                        if y1 < 0:\n",
        "                           x3 = (x2-x1)/(y2-y1)*(-y1) + x1\n",
        "                           y3 = 0\n",
        "                        elif y1 > map_NY :\n",
        "                            x3 = (x2-x1)/(y2-y1)*(map_NY-y1) + x1\n",
        "                            y3 = map_NY\n",
        "\n",
        "                    if x3 > map_NX or x3 < 0:\n",
        "                        continue\n",
        "\n",
        "                    x4 = x2\n",
        "                    y4 = y2\n",
        "\n",
        "                    if x2 < 0:\n",
        "                        x4 = 0\n",
        "                        y4 = (y2-y1)/(x2-x1)*(-x1) + y1\n",
        "\n",
        "                        if y4 < 0:\n",
        "                            x4 = (x2-x1)/(y2-y1)*(-y1) + x1\n",
        "                            y4 = 0\n",
        "                        elif y4 > map_NY:\n",
        "                            x4 = (x2-x1)/(y2-y1)*(map_NY-y1) + x1\n",
        "                            y4 = map_NY\n",
        "                    elif x2 > map_NX:\n",
        "                        x4 = map_NX\n",
        "                        y4 = (y2-y1)/(x2-x1)*(map_NX-x1) + y1\n",
        "\n",
        "                        if y4 < 0:\n",
        "                            x4 = (x2-x1)/(y2-y1)*(-y1) + x1\n",
        "                            y4 = 0\n",
        "                        elif y4 > map_NY:\n",
        "                            x4 = (x2-x1)/(y2-y1)*(map_NY-y1) + x1\n",
        "                            y4 = map_NY\n",
        "                    else:\n",
        "                        if y2 < 0:\n",
        "                           x4 = (x2-x1)/(y2-y1)*(-y1) + x1\n",
        "                           y4 = 0\n",
        "                        elif y2 > map_NY :\n",
        "                            x4 = (x2-x1)/(y2-y1)*(map_NY-y1) + x1\n",
        "                            y4 = map_NY\n",
        "\n",
        "                    if x4 > map_NX or x4 < 0:\n",
        "                        continue\n",
        "\n",
        "                    coords.append(([x1, y1], [x2, y2]))\n",
        "\n",
        "                x1, y1 = x2, y2\n",
        "\n",
        "    return coords"
      ],
      "metadata": {
        "id": "U2KRSNI6G9zo"
      },
      "execution_count": null,
      "outputs": []
    }
  ]
}