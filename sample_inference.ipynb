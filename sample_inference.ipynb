{
  "nbformat": 4,
  "nbformat_minor": 0,
  "metadata": {
    "colab": {
      "provenance": []
    },
    "kernelspec": {
      "name": "python3",
      "display_name": "Python 3"
    },
    "language_info": {
      "name": "python"
    }
  },
  "cells": [
    {
      "cell_type": "markdown",
      "source": [
        "**Clone Git Repo**  "
      ],
      "metadata": {
        "id": "j5ihWMnVAzNF"
      }
    },
    {
      "cell_type": "code",
      "source": [
        "!git clone https://github.com/hunter3789/Deep_Learning_QPF.git"
      ],
      "metadata": {
        "id": "nEPQWvvf-BDg",
        "outputId": "631eb48c-a1b4-48f8-bf57-9dec558b636c",
        "colab": {
          "base_uri": "https://localhost:8080/"
        }
      },
      "execution_count": 4,
      "outputs": [
        {
          "output_type": "stream",
          "name": "stdout",
          "text": [
            "Cloning into 'Deep_Learning_QPF'...\n",
            "remote: Enumerating objects: 102, done.\u001b[K\n",
            "remote: Counting objects: 100% (102/102), done.\u001b[K\n",
            "remote: Compressing objects: 100% (97/97), done.\u001b[K\n",
            "remote: Total 102 (delta 23), reused 7 (delta 1), pack-reused 0 (from 0)\u001b[K\n",
            "Receiving objects: 100% (102/102), 181.57 MiB | 19.44 MiB/s, done.\n",
            "Resolving deltas: 100% (23/23), done.\n",
            "Updating files: 100% (33/33), done.\n"
          ]
        }
      ]
    },
    {
      "cell_type": "code",
      "source": [
        "import argparse\n",
        "from datetime import datetime, timedelta\n",
        "from pathlib import Path\n",
        "\n",
        "import numpy as np\n",
        "import torch\n",
        "import matplotlib.pyplot as plt\n",
        "import h5netcdf"
      ],
      "metadata": {
        "id": "yN-7MUo2Ayy5"
      },
      "execution_count": 5,
      "outputs": []
    },
    {
      "cell_type": "code",
      "source": [
        "import sys\n",
        "sys.path.append('/content/Deep_Learning_QPF')\n",
        "from source.models_gan import load_model\n",
        "from source.load_dataset_gan import load_data\n",
        "\n"
      ],
      "metadata": {
        "id": "iTF_Jfr5BEMf"
      },
      "execution_count": 26,
      "outputs": []
    },
    {
      "cell_type": "code",
      "source": [
        "!python /content/Deep_Learning_QPF/source/models_gan.py"
      ],
      "metadata": {
        "id": "BTN7At4tDWwd",
        "outputId": "0a4bb44b-9b1e-48ef-a680-9fbe578a5195",
        "colab": {
          "base_uri": "https://localhost:8080/"
        }
      },
      "execution_count": 30,
      "outputs": [
        {
          "output_type": "stream",
          "name": "stdout",
          "text": [
            "/content/Deep_Learning_QPF/source\n",
            "CUDA not available, using CPU\n"
          ]
        }
      ]
    }
  ]
}