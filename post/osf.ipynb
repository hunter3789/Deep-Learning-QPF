{
  "nbformat": 4,
  "nbformat_minor": 0,
  "metadata": {
    "colab": {
      "provenance": []
    },
    "kernelspec": {
      "name": "python3",
      "display_name": "Python 3"
    },
    "language_info": {
      "name": "python"
    }
  },
  "cells": [
    {
      "cell_type": "code",
      "execution_count": 1,
      "metadata": {
        "colab": {
          "base_uri": "https://localhost:8080/"
        },
        "id": "vw9-Thh-344W",
        "outputId": "081b1630-004f-430a-985f-e7af89121227"
      },
      "outputs": [
        {
          "output_type": "stream",
          "name": "stdout",
          "text": [
            "Collecting osfclient\n",
            "  Downloading osfclient-0.0.5-py2.py3-none-any.whl.metadata (5.5 kB)\n",
            "Requirement already satisfied: requests in /usr/local/lib/python3.11/dist-packages (from osfclient) (2.32.3)\n",
            "Requirement already satisfied: tqdm in /usr/local/lib/python3.11/dist-packages (from osfclient) (4.67.1)\n",
            "Requirement already satisfied: six in /usr/local/lib/python3.11/dist-packages (from osfclient) (1.17.0)\n",
            "Requirement already satisfied: charset-normalizer<4,>=2 in /usr/local/lib/python3.11/dist-packages (from requests->osfclient) (3.4.2)\n",
            "Requirement already satisfied: idna<4,>=2.5 in /usr/local/lib/python3.11/dist-packages (from requests->osfclient) (3.10)\n",
            "Requirement already satisfied: urllib3<3,>=1.21.1 in /usr/local/lib/python3.11/dist-packages (from requests->osfclient) (2.4.0)\n",
            "Requirement already satisfied: certifi>=2017.4.17 in /usr/local/lib/python3.11/dist-packages (from requests->osfclient) (2025.4.26)\n",
            "Downloading osfclient-0.0.5-py2.py3-none-any.whl (39 kB)\n",
            "Installing collected packages: osfclient\n",
            "Successfully installed osfclient-0.0.5\n"
          ]
        }
      ],
      "source": [
        "%pip install osfclient"
      ]
    },
    {
      "cell_type": "code",
      "source": [
        "from osfclient.api import OSF\n",
        "\n",
        "project_id = 'ehwmv'  # project ID\n",
        "\n",
        "osf = OSF()\n",
        "project = osf.project(project_id)\n",
        "storage = project.storage('osfstorage')\n",
        "\n",
        "files = list(storage.files)"
      ],
      "metadata": {
        "id": "SKhELUzv_F_N"
      },
      "execution_count": 8,
      "outputs": []
    },
    {
      "cell_type": "code",
      "source": [
        "files_path = [f.path for f in files]\n",
        "print(len(files_path))"
      ],
      "metadata": {
        "colab": {
          "base_uri": "https://localhost:8080/"
        },
        "id": "pHOiMzCSAJX1",
        "outputId": "05b9a4f8-3eb0-4feb-e046-5b732022af33"
      },
      "execution_count": 15,
      "outputs": [
        {
          "output_type": "stream",
          "name": "stdout",
          "text": [
            "5382\n"
          ]
        }
      ]
    },
    {
      "cell_type": "code",
      "source": [
        "from datetime import datetime, timedelta\n",
        "\n",
        "def parse_case(case_str):\n",
        "    return datetime.strptime(case_str, \"%Y%m%d%H%M\")\n",
        "\n",
        "#case = datetime(2021,5,1,15)\n",
        "#tm2 = datetime(2021,10,31,21)\n",
        "#while (case <= tm2):\n",
        "#    fname = '/dataset/train/trainset.{case:%Y%m%d%H%M}.npz'.format(case=case)\n",
        "#    #fname = '/dataset/val/valset.{case:%Y%m%d%H%M}.npz'.format(case=case)\n",
        "#    if fname not in files_path:\n",
        "#        print(fname)\n",
        "#    case = case + timedelta(hours=3)"
      ],
      "metadata": {
        "id": "39f-308tOemU"
      },
      "execution_count": 14,
      "outputs": []
    }
  ]
}